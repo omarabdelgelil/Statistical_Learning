{
 "cells": [
  {
   "cell_type": "markdown",
   "metadata": {},
   "source": [
    "## Homework Section 5: Omar Abdelgelil"
   ]
  },
  {
   "cell_type": "markdown",
   "metadata": {},
   "source": [
    "Exercise 1: p.368, Chap.9"
   ]
  },
  {
   "cell_type": "code",
   "execution_count": null,
   "metadata": {},
   "outputs": [],
   "source": [
    "#Exercise 1A\n",
    "x = seq(-10,10)\n",
    "y = 1 + 3 * x\n",
    "plot(x, y, type = \"l\", col = \"blue\")\n",
    "text(c(0), c(-20), \"greater than 0\", col = \"blue\")\n",
    "text(c(0), c(20), \"less than 0\", col = \"blue\")"
   ]
  },
  {
   "cell_type": "code",
   "execution_count": null,
   "metadata": {},
   "outputs": [],
   "source": [
    "#Exercise 1B\n",
    "lines(x, 1 - x/2)\n",
    "text(c(0), c(-15), \"less than 0\")\n",
    "text(c(0), c(15), \"greater than 0\")"
   ]
  },
  {
   "cell_type": "markdown",
   "metadata": {},
   "source": [
    "Exercise 2: p.368, Chap.9"
   ]
  },
  {
   "cell_type": "code",
   "execution_count": null,
   "metadata": {},
   "outputs": [],
   "source": [
    "#Exercise 2A:\n",
    "radius = 2\n",
    "plot(NA, NA, type = \"n\", xlim = c(-4, 2), ylim = c(-1, 5), asp = 1, xlab = \"X\", \n",
    "    ylab = \"Y\")\n",
    "symbols(c(-1), c(2), circles = c(radius), add = TRUE, inches = FALSE)"
   ]
  },
  {
   "cell_type": "markdown",
   "metadata": {},
   "source": [
    "Exercise 4: p.369, Chap.9\n"
   ]
  },
  {
   "cell_type": "code",
   "execution_count": null,
   "metadata": {},
   "outputs": [],
   "source": [
    "x = rnorm(100)\n",
    "y = 3 * x^2 + 4 + rnorm(100)\n",
    "train = sample(100, 50)\n",
    "y[train] = y[train] + 3\n",
    "y[-train] = y[-train] - 3\n",
    "plot(x[train], y[train], pch=\"+\", lwd=4, col=\"blue\", ylim=c(-4, 20), xlab=\"X\", ylab=\"Y\")\n",
    "points(x[-train], y[-train], pch=\"+\", lwd=4, col=\"red\")"
   ]
  },
  {
   "cell_type": "code",
   "execution_count": null,
   "metadata": {},
   "outputs": [],
   "source": [
    "z = rep(0, 100)\n",
    "z[train] = 1\n",
    "final.train = c(sample(train, 35), sample(setdiff(1:100, train), 35))\n",
    "data.train = data.frame(x=x[final.train], y=y[final.train], z=as.factor(z[final.train]))\n",
    "data.test = data.frame(x=x[-final.train], y=y[-final.train], z=as.factor(z[-final.train]))"
   ]
  },
  {
   "cell_type": "code",
   "execution_count": null,
   "metadata": {},
   "outputs": [],
   "source": [
    "library(e1071)\n",
    "svm.linear = svm(z~., data=data.train, kernel=\"linear\", cost=10)\n",
    "plot(svm.linear, data.train)\n",
    "\n",
    "table(z[final.train], predict(svm.linear, data.train))"
   ]
  },
  {
   "cell_type": "code",
   "execution_count": null,
   "metadata": {},
   "outputs": [],
   "source": [
    "svm.poly = svm(z~., data=data.train, kernel=\"polynomial\", cost=10)\n",
    "plot(svm.poly, data.train)\n",
    "\n",
    "table(z[final.train], predict(svm.poly, data.train))"
   ]
  },
  {
   "cell_type": "code",
   "execution_count": null,
   "metadata": {},
   "outputs": [],
   "source": [
    "table(z[-final.train], predict(svm.linear, data.test))\n",
    "\n",
    "table(z[-final.train], predict(svm.poly, data.test))\n",
    "\n",
    "table(z[-final.train], predict(svm.radial, data.test))"
   ]
  },
  {
   "cell_type": "markdown",
   "metadata": {},
   "source": [
    "Exercise 7: p.371, Chap.9"
   ]
  },
  {
   "cell_type": "code",
   "execution_count": null,
   "metadata": {},
   "outputs": [],
   "source": [
    "#part A\n",
    "library(ISLR)\n",
    "mpg_med = median(Auto$mpg)\n",
    "new_var = ifelse(Auto$mpg > mpg_med, 1, 0)\n",
    "Auto$mpglevel = as.factor(new_var)"
   ]
  },
  {
   "cell_type": "code",
   "execution_count": null,
   "metadata": {},
   "outputs": [],
   "source": [
    "# part B\n",
    "library(e1071)\n",
    "tune.out = tune(svm, mpglevel ~ ., data = Auto, kernel = \"linear\", ranges = list(cost = c(0.01, \n",
    "    0.1, 1, 5, 10, 100)))\n",
    "summary(tune.out)"
   ]
  },
  {
   "cell_type": "code",
   "execution_count": null,
   "metadata": {},
   "outputs": [],
   "source": [
    "#part C\n",
    "tune.out = tune(svm, mpglevel ~ ., data = Auto, kernel = \"polynomial\", ranges = list(cost = c(0.1, \n",
    "    1, 5, 10), degree = c(2, 3, 4)))\n",
    "summary(tune.out)"
   ]
  },
  {
   "cell_type": "code",
   "execution_count": null,
   "metadata": {},
   "outputs": [],
   "source": [
    "# part D\n",
    "svm.linear = svm(mpglevel ~ ., data = Auto, kernel = \"linear\", cost = 1)\n",
    "svm.poly = svm(mpglevel ~ ., data = Auto, kernel = \"polynomial\", cost = 10, \n",
    "    degree = 2)\n",
    "svm.radial = svm(mpglevel ~ ., data = Auto, kernel = \"radial\", cost = 10, gamma = 0.01)\n",
    "plotpairs = function(fit) {\n",
    "    for (name in names(Auto)[!(names(Auto) %in% c(\"mpg\", \"mpglevel\", \"name\"))]) {\n",
    "        plot(fit, Auto, as.formula(paste(\"mpg~\", name, sep = \"\")))\n",
    "    }\n",
    "}\n",
    "plotpairs(svm.linear)"
   ]
  },
  {
   "cell_type": "markdown",
   "metadata": {},
   "source": [
    "Exercise 8: (p.371)"
   ]
  },
  {
   "cell_type": "code",
   "execution_count": null,
   "metadata": {},
   "outputs": [],
   "source": [
    "#part A\n",
    "library(ISLR)\n",
    "train_split = sample(dim(OJ)[1], 800)\n",
    "train = OJ[train_split, ]\n",
    "test = OJ[-train_split, ]"
   ]
  },
  {
   "cell_type": "code",
   "execution_count": null,
   "metadata": {},
   "outputs": [],
   "source": [
    "#part B\n",
    "library(e1071)\n",
    "svm.linear = svm(Purchase ~ ., kernel = \"linear\", data = train, cost = 0.01)\n",
    "summary(svm.linear)"
   ]
  },
  {
   "cell_type": "code",
   "execution_count": null,
   "metadata": {},
   "outputs": [],
   "source": [
    "#part C\n",
    "train_pred = predict(svm.linear, train)\n",
    "tab <- table(train$Purchase, train_pred)\n",
    "tab\n",
    "print(\"Error:\")\n",
    "(tab[2] + tab[3]) / sum(tab)"
   ]
  },
  {
   "cell_type": "code",
   "execution_count": null,
   "metadata": {},
   "outputs": [],
   "source": [
    "test_pred = predict(svm.linear, test)\n",
    "tab <- table(test$Purchase, test_pred)\n",
    "\n",
    "tab\n",
    "print(\"Error:\")\n",
    "(tab[2] + tab[3]) / sum(tab)"
   ]
  },
  {
   "cell_type": "code",
   "execution_count": null,
   "metadata": {},
   "outputs": [],
   "source": [
    "#part D\n",
    "tune.out = tune(svm, Purchase ~ ., data = train, kernel = \"linear\", ranges = list(cost = 10^seq(-2, \n",
    "    1, by = 0.25)))\n",
    "summary(tune.out)"
   ]
  },
  {
   "cell_type": "code",
   "execution_count": null,
   "metadata": {},
   "outputs": [],
   "source": [
    "#part E\n",
    "svm.linear = svm(Purchase ~ ., kernel = \"linear\", data = train, cost = tune.out$best.parameters$cost)\n",
    "train.pred = predict(svm.linear, train)\n",
    "tab <- table(train$Purchase, train.pred)\n",
    "\n",
    "tab\n",
    "print(\"Error:\")\n",
    "(tab[2] + tab[3]) / sum(tab)"
   ]
  },
  {
   "cell_type": "code",
   "execution_count": null,
   "metadata": {},
   "outputs": [],
   "source": [
    "test.pred = predict(svm.linear, test)\n",
    "tab <- table(test$Purchase, test.pred)\n",
    "\n",
    "tab\n",
    "print(\"Error:\")\n",
    "(tab[2] + tab[3]) / sum(tab)"
   ]
  },
  {
   "cell_type": "code",
   "execution_count": null,
   "metadata": {},
   "outputs": [],
   "source": [
    "#part F\n",
    "svm.radial = svm(Purchase ~ ., data = train, kernel = \"radial\")\n",
    "summary(svm.radial)\n",
    "\n",
    "train.pred = predict(svm.radial, train)\n",
    "tab <- table(train$Purchase, train.pred)\n",
    "\n",
    "tab\n",
    "print(\"Error:\")\n",
    "(tab[2] + tab[3]) / sum(tab)"
   ]
  }
 ],
 "metadata": {
  "kernelspec": {
   "display_name": "R",
   "language": "R",
   "name": "ir"
  }
 },
 "nbformat": 4,
 "nbformat_minor": 2
}
