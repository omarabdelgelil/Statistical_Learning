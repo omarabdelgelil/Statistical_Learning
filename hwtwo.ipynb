{
 "cells": [
  {
   "cell_type": "code",
   "execution_count": 1,
   "metadata": {},
   "outputs": [],
   "source": [
    "#Homework session 2"
   ]
  },
  {
   "cell_type": "code",
   "execution_count": 2,
   "metadata": {},
   "outputs": [
    {
     "data": {
      "text/html": [
       "'A: 37.75 %'"
      ],
      "text/latex": [
       "'A: 37.75 \\%'"
      ],
      "text/markdown": [
       "'A: 37.75 %'"
      ],
      "text/plain": [
       "[1] \"A: 37.75 %\""
      ]
     },
     "metadata": {},
     "output_type": "display_data"
    },
    {
     "data": {
      "text/html": [
       "'B: 120 hours'"
      ],
      "text/latex": [
       "'B: 120 hours'"
      ],
      "text/markdown": [
       "'B: 120 hours'"
      ],
      "text/plain": [
       "[1] \"B: 120 hours\""
      ]
     },
     "metadata": {},
     "output_type": "display_data"
    }
   ],
   "source": [
    "#Exercise 6 \n",
    "B0 <- -6\n",
    "B1 <- 0.05\n",
    "B2 <- 1\n",
    "hours <- 40\n",
    "GPA <- 3.5\n",
    "\n",
    "#part a\n",
    "P_y <- (exp(B0 + B1*hours + B2*GPA))/(1+exp(B0 + B1*hours + B2*GPA))\n",
    "paste(\"A:\",round(P_y,4)*100,\"%\")\n",
    "\n",
    "#part b\n",
    "P_y <- 0.5\n",
    "hours <- (log(P_y/(1-P_y)) - B0) / B1\n",
    "paste(\"B:\", hours, \"hours\")"
   ]
  },
  {
   "cell_type": "code",
   "execution_count": null,
   "metadata": {},
   "outputs": [],
   "source": [
    "#Exercise 8 \n",
    "#Will use logistic regression model as a KNN with a k of 1 might be very likely to overfit\n"
   ]
  },
  {
   "cell_type": "code",
   "execution_count": 3,
   "metadata": {},
   "outputs": [
    {
     "data": {
      "text/html": [
       "0.27007299270073"
      ],
      "text/latex": [
       "0.27007299270073"
      ],
      "text/markdown": [
       "0.27007299270073"
      ],
      "text/plain": [
       "[1] 0.270073"
      ]
     },
     "metadata": {},
     "output_type": "display_data"
    },
    {
     "data": {
      "text/html": [
       "0.19047619047619"
      ],
      "text/latex": [
       "0.19047619047619"
      ],
      "text/markdown": [
       "0.19047619047619"
      ],
      "text/plain": [
       "[1] 0.1904762"
      ]
     },
     "metadata": {},
     "output_type": "display_data"
    }
   ],
   "source": [
    "# Exercise 9\n",
    "\n",
    "#part a\n",
    "x <- 0.37\n",
    "p_of_x <- x/(1+x)\n",
    "p_of_x\n",
    "\n",
    "#part b\n",
    "p_y <- 0.16\n",
    "y <- p_y/(1-p_y)\n",
    "y"
   ]
  },
  {
   "cell_type": "code",
   "execution_count": null,
   "metadata": {},
   "outputs": [],
   "source": [
    "# Exercise 10\n",
    "library(ISLR)\n",
    "\n",
    "head(Weekly)\n",
    "\n",
    "weekly <- Weekly\n",
    "\n",
    "#part a\n",
    "summary(Weekly)\n",
    "pairs(Weekly)\n",
    "\n",
    "#part b\n",
    "weekly$Direction <- mapply(function(direction) ifelse(as.character(direction) == \"Up\", 1, 0), weekly$Direction )\n",
    "lr_all <- glm(Direction ~., data=weekly)\n",
    "summary(lr_all)\n",
    "#part c\n",
    "pred_weekly_prob <- predict(lr_all, newdata=weekly, type='response')\n",
    "threshold <- 0.5\n",
    "pred_weekly <- rep(0, length(pred_weekly_prob))\n",
    "pred_weekly[pred_weekly_prob > threshold] <- 1\n",
    "#part D\n",
    "#part e\n",
    "library(MASS)\n",
    "lda_train <- lda(Direction~Lag2,data=train)\n",
    "lda_pred <- predict(lda_train, newdata=test)\n",
    "eval(lda_pred$class, test)\n",
    "#part f\n",
    "qda_train <- qda(Direction~Lag2,data=train)\n",
    "qda_pred <- predict(qda_train, newdata=test)\n",
    "eval(qda_pred$class, test)\n",
    "#part g\n",
    "library(class)\n",
    "knn1_pred <- knn(train = data.frame(train$Lag2),\n",
    "                 test  = data.frame(test$Lag2),\n",
    "                 cl    = train$Direction,\n",
    "                 k     = 1)\n",
    "eval(knn1_pred, test)\n",
    "                           \n"
   ]
  },
  {
   "cell_type": "code",
   "execution_count": null,
   "metadata": {},
   "outputs": [],
   "source": [
    "# Exercise 11 \n",
    "\n",
    "#part a\n",
    "head(Auto,2)\n",
    "auto <- Auto\n",
    "auto$mpg1 <- mapply(function(mpg) ifelse(mpg >= median(auto$mpg), 1, 0), auto$mpg)\n",
    "head(auto, 20)\n",
    "                    :\n",
    "#part b\n",
    "pairs(auto)\n",
    "\n",
    "par( mfrow = c(2,5) )\n",
    "for (x in colnames(auto)){\n",
    "    boxplot(auto$mpg1, auto[,x], main=paste(\"mpg1 x\",x))\n",
    "}"
   ]
  }
 ],
 "metadata": {
  "kernelspec": {
   "display_name": "R",
   "language": "R",
   "name": "ir"
  },
  "language_info": {
   "codemirror_mode": "r",
   "file_extension": ".r",
   "mimetype": "text/x-r-source",
   "name": "R",
   "pygments_lexer": "r",
   "version": "3.6.1"
  }
 },
 "nbformat": 4,
 "nbformat_minor": 2
}
