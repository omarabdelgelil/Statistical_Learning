{
 "cells": [
  {
   "cell_type": "code",
   "execution_count": null,
   "metadata": {},
   "outputs": [],
   "source": [
    "#Homework 3 - Omar Abdelgelil"
   ]
  },
  {
   "cell_type": "code",
   "execution_count": null,
   "metadata": {},
   "outputs": [],
   "source": [
    "#Exercise 3 (P198 ch 5)\n",
    "# Part a\n",
    "# This approach involves randomly dividing the set of observations into K groups of equal size. The first fold is treated as \n",
    "# a validation set and the method is fit on the remaining k-1 folds.\n",
    "\n",
    "#part B\n",
    "# (i)\n",
    "# K-fold CV has less variance but more bias\n",
    "#(ii)\n",
    "# K-fold CV has more variance but less bias"
   ]
  },
  {
   "cell_type": "code",
   "execution_count": null,
   "metadata": {},
   "outputs": [],
   "source": [
    "#Exercise 8(P200 ch 5)\n",
    "#Part a\n",
    "set.seed(1)\n",
    "x <- rnorm(100)\n",
    "y <- x - 2*x^2 + rnorm(100)\n",
    "y <- rnorm(100) \n",
    "\n",
    "#In this dataset, n is 100 observations\n",
    "# P is equal to 2 features\n",
    "#The model equation used:  Y <- X - 2X^2 \n",
    "\n",
    "\n",
    "\n"
   ]
  },
  {
   "cell_type": "code",
   "execution_count": 5,
   "metadata": {},
   "outputs": [
    {
     "data": {
      "image/png": "[encoded data removed]",
      "text/plain": [
       "plot without title"
      ]
     },
     "metadata": {},
     "output_type": "display_data"
    }
   ],
   "source": [
    "#Part b\n",
    "plot(x, y)\n",
    "#seems like the relation is quadratic "
   ]
  },
  {
   "cell_type": "code",
   "execution_count": 8,
   "metadata": {},
   "outputs": [
    {
     "data": {
      "text/html": [
       "<ol class=list-inline>\n",
       "\t<li>1.10226002243218</li>\n",
       "\t<li>1.10203867351718</li>\n",
       "</ol>\n"
      ],
      "text/latex": [
       "\\begin{enumerate*}\n",
       "\\item 1.10226002243218\n",
       "\\item 1.10203867351718\n",
       "\\end{enumerate*}\n"
      ],
      "text/markdown": [
       "1. 1.10226002243218\n",
       "2. 1.10203867351718\n",
       "\n",
       "\n"
      ],
      "text/plain": [
       "[1] 1.102260 1.102039"
      ]
     },
     "metadata": {},
     "output_type": "display_data"
    },
    {
     "data": {
      "text/html": [
       "<ol class=list-inline>\n",
       "\t<li>1.1281937343705</li>\n",
       "\t<li>1.12782593526726</li>\n",
       "</ol>\n"
      ],
      "text/latex": [
       "\\begin{enumerate*}\n",
       "\\item 1.1281937343705\n",
       "\\item 1.12782593526726\n",
       "\\end{enumerate*}\n"
      ],
      "text/markdown": [
       "1. 1.1281937343705\n",
       "2. 1.12782593526726\n",
       "\n",
       "\n"
      ],
      "text/plain": [
       "[1] 1.128194 1.127826"
      ]
     },
     "metadata": {},
     "output_type": "display_data"
    },
    {
     "data": {
      "text/html": [
       "<ol class=list-inline>\n",
       "\t<li>1.08472741367438</li>\n",
       "\t<li>1.0843370395056</li>\n",
       "</ol>\n"
      ],
      "text/latex": [
       "\\begin{enumerate*}\n",
       "\\item 1.08472741367438\n",
       "\\item 1.0843370395056\n",
       "\\end{enumerate*}\n"
      ],
      "text/markdown": [
       "1. 1.08472741367438\n",
       "2. 1.0843370395056\n",
       "\n",
       "\n"
      ],
      "text/plain": [
       "[1] 1.084727 1.084337"
      ]
     },
     "metadata": {},
     "output_type": "display_data"
    },
    {
     "data": {
      "text/html": [
       "<ol class=list-inline>\n",
       "\t<li>1.09782890398707</li>\n",
       "\t<li>1.09725173226938</li>\n",
       "</ol>\n"
      ],
      "text/latex": [
       "\\begin{enumerate*}\n",
       "\\item 1.09782890398707\n",
       "\\item 1.09725173226938\n",
       "\\end{enumerate*}\n"
      ],
      "text/markdown": [
       "1. 1.09782890398707\n",
       "2. 1.09725173226938\n",
       "\n",
       "\n"
      ],
      "text/plain": [
       "[1] 1.097829 1.097252"
      ]
     },
     "metadata": {},
     "output_type": "display_data"
    }
   ],
   "source": [
    "#part c\n",
    "# i\n",
    "library(boot)\n",
    "set.seed(1)\n",
    "df <- data.frame(y, x, x2=x^2, x3=x^3, x4=x^4)\n",
    "fit1 <- glm(y ~ x, data=df)\n",
    "cv.err1 <- cv.glm(df, fit1)\n",
    "cv.err1$delta\n",
    "\n",
    "#ii\n",
    "fit2 <- glm(y ~ x + x2, data=df)\n",
    "cv.err2 <- cv.glm(df, fit2)\n",
    "cv.err2$delta\n",
    "\n",
    "#iii\n",
    "fit3 <- glm(y ~ x + x2 + x3, data=df)\n",
    "cv.err3 <- cv.glm(df, fit3)\n",
    "cv.err3$delta\n",
    "\n",
    "#iv\n",
    "fit4 <- glm(y ~ x + x2 + x3 + x4, data=df)\n",
    "cv.err4 <- cv.glm(df, fit4)\n",
    "cv.err4$delta"
   ]
  },
  {
   "cell_type": "code",
   "execution_count": 9,
   "metadata": {},
   "outputs": [
    {
     "data": {
      "text/html": [
       "<ol class=list-inline>\n",
       "\t<li>1.10226002243218</li>\n",
       "\t<li>1.10203867351718</li>\n",
       "</ol>\n"
      ],
      "text/latex": [
       "\\begin{enumerate*}\n",
       "\\item 1.10226002243218\n",
       "\\item 1.10203867351718\n",
       "\\end{enumerate*}\n"
      ],
      "text/markdown": [
       "1. 1.10226002243218\n",
       "2. 1.10203867351718\n",
       "\n",
       "\n"
      ],
      "text/plain": [
       "[1] 1.102260 1.102039"
      ]
     },
     "metadata": {},
     "output_type": "display_data"
    },
    {
     "data": {
      "text/html": [
       "<ol class=list-inline>\n",
       "\t<li>1.1281937343705</li>\n",
       "\t<li>1.12782593526726</li>\n",
       "</ol>\n"
      ],
      "text/latex": [
       "\\begin{enumerate*}\n",
       "\\item 1.1281937343705\n",
       "\\item 1.12782593526726\n",
       "\\end{enumerate*}\n"
      ],
      "text/markdown": [
       "1. 1.1281937343705\n",
       "2. 1.12782593526726\n",
       "\n",
       "\n"
      ],
      "text/plain": [
       "[1] 1.128194 1.127826"
      ]
     },
     "metadata": {},
     "output_type": "display_data"
    },
    {
     "data": {
      "text/html": [
       "<ol class=list-inline>\n",
       "\t<li>1.08472741367438</li>\n",
       "\t<li>1.08433703950561</li>\n",
       "</ol>\n"
      ],
      "text/latex": [
       "\\begin{enumerate*}\n",
       "\\item 1.08472741367438\n",
       "\\item 1.08433703950561\n",
       "\\end{enumerate*}\n"
      ],
      "text/markdown": [
       "1. 1.08472741367438\n",
       "2. 1.08433703950561\n",
       "\n",
       "\n"
      ],
      "text/plain": [
       "[1] 1.084727 1.084337"
      ]
     },
     "metadata": {},
     "output_type": "display_data"
    },
    {
     "data": {
      "text/html": [
       "<ol class=list-inline>\n",
       "\t<li>1.09782890398707</li>\n",
       "\t<li>1.09725173226938</li>\n",
       "</ol>\n"
      ],
      "text/latex": [
       "\\begin{enumerate*}\n",
       "\\item 1.09782890398707\n",
       "\\item 1.09725173226938\n",
       "\\end{enumerate*}\n"
      ],
      "text/markdown": [
       "1. 1.09782890398707\n",
       "2. 1.09725173226938\n",
       "\n",
       "\n"
      ],
      "text/plain": [
       "[1] 1.097829 1.097252"
      ]
     },
     "metadata": {},
     "output_type": "display_data"
    }
   ],
   "source": [
    "#part d\n",
    "#i\n",
    "set.seed(2)\n",
    "df <- data.frame(y, x, x2=x^2, x3=x^3, x4=x^4)\n",
    "fit1 <- glm(y ~ x, data=df)\n",
    "cv.err1 <- cv.glm(df, fit1)\n",
    "cv.err1$delta\n",
    "\n",
    "#ii\n",
    "fit2 <- glm(y ~ x + x2, data=df)\n",
    "cv.err2 <- cv.glm(df, fit2)\n",
    "cv.err2$delta\n",
    "\n",
    "#iii\n",
    "fit3 <- glm(y ~ x + x2 + x3, data=df)\n",
    "cv.err3 <- cv.glm(df, fit3)\n",
    "cv.err3$delta\n",
    "\n",
    "#iv\n",
    "fit4 <- glm(y ~ x + x2 + x3 + x4, data=df)\n",
    "cv.err4 <- cv.glm(df, fit4)\n",
    "cv.err4$delta\n",
    "\n",
    "# The results are the same because with LOOCV no randomness is involved"
   ]
  },
  {
   "cell_type": "code",
   "execution_count": null,
   "metadata": {},
   "outputs": [],
   "source": [
    "#part e\n",
    "#since the model is generated using a quadratic formula, then i and ii had the lowest\n"
   ]
  },
  {
   "cell_type": "code",
   "execution_count": 10,
   "metadata": {},
   "outputs": [
    {
     "data": {
      "text/plain": [
       "\n",
       "Call:\n",
       "lm(formula = y ~ poly(x, 4))\n",
       "\n",
       "Residuals:\n",
       "    Min      1Q  Median      3Q     Max \n",
       "-2.9153 -0.5277  0.1137  0.6562  2.3045 \n",
       "\n",
       "Coefficients:\n",
       "            Estimate Std. Error t value Pr(>|t|)  \n",
       "(Intercept)  0.02967    0.10232   0.290   0.7725  \n",
       "poly(x, 4)1  0.18917    1.02324   0.185   0.8537  \n",
       "poly(x, 4)2 -0.19594    1.02324  -0.191   0.8485  \n",
       "poly(x, 4)3  2.18389    1.02324   2.134   0.0354 *\n",
       "poly(x, 4)4 -1.26129    1.02324  -1.233   0.2207  \n",
       "---\n",
       "Signif. codes:  0 '***' 0.001 '**' 0.01 '*' 0.05 '.' 0.1 ' ' 1\n",
       "\n",
       "Residual standard error: 1.023 on 95 degrees of freedom\n",
       "Multiple R-squared:  0.06076,\tAdjusted R-squared:  0.02121 \n",
       "F-statistic: 1.536 on 4 and 95 DF,  p-value: 0.1979\n"
      ]
     },
     "metadata": {},
     "output_type": "display_data"
    }
   ],
   "source": [
    "#part f\n",
    "fit0 <- lm(y ~ poly(x,4))\n",
    "summary(fit0)\n",
    "\n",
    "#based on the results,only i and ii are signifcant predictors"
   ]
  },
  {
   "cell_type": "code",
   "execution_count": null,
   "metadata": {},
   "outputs": [],
   "source": [
    "#Exercise 1 (P259, chap6)\n",
    "#part a\n",
    "#Best subset will have the smallest training RSS because best subset will try every model that forward and backward selection \n",
    "#will try."
   ]
  },
  {
   "cell_type": "code",
   "execution_count": null,
   "metadata": {},
   "outputs": [],
   "source": [
    "#part b\n",
    "#could be any of the three depending on the p and n numbers"
   ]
  },
  {
   "cell_type": "code",
   "execution_count": null,
   "metadata": {},
   "outputs": [],
   "source": [
    "#part c\n",
    "#(i)- True\n",
    "#(ii)- True\n",
    "#(iii)- False\n",
    "#(iv)- False\n",
    "#(v)-False"
   ]
  },
  {
   "cell_type": "code",
   "execution_count": 11,
   "metadata": {},
   "outputs": [
    {
     "name": "stderr",
     "output_type": "stream",
     "text": [
      "Loading required package: ISLR\n",
      "Warning message:\n",
      "\"package 'ISLR' was built under R version 3.6.2\""
     ]
    },
    {
     "name": "stdout",
     "output_type": "stream",
     "text": [
      "'data.frame':\t777 obs. of  18 variables:\n",
      " $ Private    : Factor w/ 2 levels \"No\",\"Yes\": 2 2 2 2 2 2 2 2 2 2 ...\n",
      " $ Apps       : num  1660 2186 1428 417 193 ...\n",
      " $ Accept     : num  1232 1924 1097 349 146 ...\n",
      " $ Enroll     : num  721 512 336 137 55 158 103 489 227 172 ...\n",
      " $ Top10perc  : num  23 16 22 60 16 38 17 37 30 21 ...\n",
      " $ Top25perc  : num  52 29 50 89 44 62 45 68 63 44 ...\n",
      " $ F.Undergrad: num  2885 2683 1036 510 249 ...\n",
      " $ P.Undergrad: num  537 1227 99 63 869 ...\n",
      " $ Outstate   : num  7440 12280 11250 12960 7560 ...\n",
      " $ Room.Board : num  3300 6450 3750 5450 4120 ...\n",
      " $ Books      : num  450 750 400 450 800 500 500 450 300 660 ...\n",
      " $ Personal   : num  2200 1500 1165 875 1500 ...\n",
      " $ PhD        : num  70 29 53 92 76 67 90 89 79 40 ...\n",
      " $ Terminal   : num  78 30 66 97 72 73 93 100 84 41 ...\n",
      " $ S.F.Ratio  : num  18.1 12.2 12.9 7.7 11.9 9.4 11.5 13.7 11.3 11.5 ...\n",
      " $ perc.alumni: num  12 16 30 37 2 11 26 37 23 15 ...\n",
      " $ Expend     : num  7041 10527 8735 19016 10922 ...\n",
      " $ Grad.Rate  : num  60 56 54 59 15 55 63 73 80 52 ...\n"
     ]
    }
   ],
   "source": [
    "#Exercise 9(P263, chapter 6)\n",
    "#part a\n",
    "require(ISLR)\n",
    "data(College)\n",
    "set.seed(1)\n",
    "trainid <- sample(1:nrow(College), nrow(College)/2)\n",
    "train <- College[trainid,]\n",
    "test <- College[-trainid,]\n",
    "str(College)"
   ]
  },
  {
   "cell_type": "code",
   "execution_count": 12,
   "metadata": {},
   "outputs": [],
   "source": [
    "#part b\n",
    "fit.lm <- lm(Apps~., data=train)\n",
    "pred.lm <- predict(fit.lm, test)\n",
    "err.lm <- mean((test$Apps - pred.lm)^2)"
   ]
  },
  {
   "cell_type": "code",
   "execution_count": 13,
   "metadata": {},
   "outputs": [
    {
     "name": "stderr",
     "output_type": "stream",
     "text": [
      "Loading required package: glmnet\n",
      "Loading required package: Matrix\n",
      "Loading required package: foreach\n",
      "Loaded glmnet 2.0-16\n",
      "\n"
     ]
    },
    {
     "data": {
      "text/html": [
       "445.409293590868"
      ],
      "text/latex": [
       "445.409293590868"
      ],
      "text/markdown": [
       "445.409293590868"
      ],
      "text/plain": [
       "[1] 445.4093"
      ]
     },
     "metadata": {},
     "output_type": "display_data"
    },
    {
     "data": {
      "text/html": [
       "981782.459077"
      ],
      "text/latex": [
       "981782.459077"
      ],
      "text/markdown": [
       "981782.459077"
      ],
      "text/plain": [
       "[1] 981782.5"
      ]
     },
     "metadata": {},
     "output_type": "display_data"
    }
   ],
   "source": [
    "#part c\n",
    "require(glmnet)\n",
    "xmat.train <- model.matrix(Apps~., data=train)[,-1]\n",
    "xmat.test <- model.matrix(Apps~., data=test)[,-1]\n",
    "fit.ridge <- cv.glmnet(xmat.train, train$Apps, alpha=0)\n",
    "(lambda <- fit.ridge$lambda.min)  # optimal lambda\n",
    "pred.ridge <- predict(fit.ridge, s=lambda, newx=xmat.test)\n",
    "(err.ridge <- mean((test$Apps - pred.ridge)^2)) "
   ]
  },
  {
   "cell_type": "code",
   "execution_count": 14,
   "metadata": {},
   "outputs": [
    {
     "data": {
      "text/html": [
       "2.37701543097134"
      ],
      "text/latex": [
       "2.37701543097134"
      ],
      "text/markdown": [
       "2.37701543097134"
      ],
      "text/plain": [
       "[1] 2.377015"
      ]
     },
     "metadata": {},
     "output_type": "display_data"
    },
    {
     "data": {
      "text/html": [
       "<dl class=dl-horizontal>\n",
       "\t<dt>(Intercept)</dt>\n",
       "\t\t<dd>-763.082235031973</dd>\n",
       "\t<dt>PrivateYes</dt>\n",
       "\t\t<dd>-313.468494987167</dd>\n",
       "\t<dt>Accept</dt>\n",
       "\t\t<dd>1.76016527927595</dd>\n",
       "\t<dt>Enroll</dt>\n",
       "\t\t<dd>-1.29484160908356</dd>\n",
       "\t<dt>Top10perc</dt>\n",
       "\t\t<dd>64.5106641366441</dd>\n",
       "\t<dt>Top25perc</dt>\n",
       "\t\t<dd>-20.5641918663758</dd>\n",
       "\t<dt>F.Undergrad</dt>\n",
       "\t\t<dd>0.0679233535491028</dd>\n",
       "\t<dt>P.Undergrad</dt>\n",
       "\t\t<dd>0.0127744940211039</dd>\n",
       "\t<dt>Outstate</dt>\n",
       "\t\t<dd>-0.104257960482392</dd>\n",
       "\t<dt>Room.Board</dt>\n",
       "\t\t<dd>0.208221817795023</dd>\n",
       "\t<dt>Books</dt>\n",
       "\t\t<dd>0.292546563416962</dd>\n",
       "\t<dt>Personal</dt>\n",
       "\t\t<dd>0.00340086054875917</dd>\n",
       "\t<dt>PhD</dt>\n",
       "\t\t<dd>-14.3702156863673</dd>\n",
       "\t<dt>Terminal</dt>\n",
       "\t\t<dd>5.19557166971477</dd>\n",
       "\t<dt>S.F.Ratio</dt>\n",
       "\t\t<dd>21.4932321786322</dd>\n",
       "\t<dt>perc.alumni</dt>\n",
       "\t\t<dd>0.389805427818481</dd>\n",
       "\t<dt>Expend</dt>\n",
       "\t\t<dd>0.0481525978938685</dd>\n",
       "\t<dt>Grad.Rate</dt>\n",
       "\t\t<dd>6.94919599842685</dd>\n",
       "</dl>\n"
      ],
      "text/latex": [
       "\\begin{description*}\n",
       "\\item[(Intercept)] -763.082235031973\n",
       "\\item[PrivateYes] -313.468494987167\n",
       "\\item[Accept] 1.76016527927595\n",
       "\\item[Enroll] -1.29484160908356\n",
       "\\item[Top10perc] 64.5106641366441\n",
       "\\item[Top25perc] -20.5641918663758\n",
       "\\item[F.Undergrad] 0.0679233535491028\n",
       "\\item[P.Undergrad] 0.0127744940211039\n",
       "\\item[Outstate] -0.104257960482392\n",
       "\\item[Room.Board] 0.208221817795023\n",
       "\\item[Books] 0.292546563416962\n",
       "\\item[Personal] 0.00340086054875917\n",
       "\\item[PhD] -14.3702156863673\n",
       "\\item[Terminal] 5.19557166971477\n",
       "\\item[S.F.Ratio] 21.4932321786322\n",
       "\\item[perc.alumni] 0.389805427818481\n",
       "\\item[Expend] 0.0481525978938685\n",
       "\\item[Grad.Rate] 6.94919599842685\n",
       "\\end{description*}\n"
      ],
      "text/markdown": [
       "(Intercept)\n",
       ":   -763.082235031973PrivateYes\n",
       ":   -313.468494987167Accept\n",
       ":   1.76016527927595Enroll\n",
       ":   -1.29484160908356Top10perc\n",
       ":   64.5106641366441Top25perc\n",
       ":   -20.5641918663758F.Undergrad\n",
       ":   0.0679233535491028P.Undergrad\n",
       ":   0.0127744940211039Outstate\n",
       ":   -0.104257960482392Room.Board\n",
       ":   0.208221817795023Books\n",
       ":   0.292546563416962Personal\n",
       ":   0.00340086054875917PhD\n",
       ":   -14.3702156863673Terminal\n",
       ":   5.19557166971477S.F.Ratio\n",
       ":   21.4932321786322perc.alumni\n",
       ":   0.389805427818481Expend\n",
       ":   0.0481525978938685Grad.Rate\n",
       ":   6.94919599842685\n",
       "\n"
      ],
      "text/plain": [
       "  (Intercept)    PrivateYes        Accept        Enroll     Top10perc \n",
       "-7.630822e+02 -3.134685e+02  1.760165e+00 -1.294842e+00  6.451066e+01 \n",
       "    Top25perc   F.Undergrad   P.Undergrad      Outstate    Room.Board \n",
       "-2.056419e+01  6.792335e-02  1.277449e-02 -1.042580e-01  2.082218e-01 \n",
       "        Books      Personal           PhD      Terminal     S.F.Ratio \n",
       " 2.925466e-01  3.400861e-03 -1.437022e+01  5.195572e+00  2.149323e+01 \n",
       "  perc.alumni        Expend     Grad.Rate \n",
       " 3.898054e-01  4.815260e-02  6.949196e+00 "
      ]
     },
     "metadata": {},
     "output_type": "display_data"
    },
    {
     "data": {
      "text/html": [
       "18"
      ],
      "text/latex": [
       "18"
      ],
      "text/markdown": [
       "18"
      ],
      "text/plain": [
       "[1] 18"
      ]
     },
     "metadata": {},
     "output_type": "display_data"
    }
   ],
   "source": [
    "#part d\n",
    "require(glmnet)\n",
    "xmat.train <- model.matrix(Apps~., data=train)[,-1]\n",
    "xmat.test <- model.matrix(Apps~., data=test)[,-1]\n",
    "fit.lasso <- cv.glmnet(xmat.train, train$Apps, alpha=1)\n",
    "(lambda <- fit.lasso$lambda.min)  \n",
    "pred.lasso <- predict(fit.lasso, s=lambda, newx=xmat.test)\n",
    "err.lasso <- mean((test$Apps - pred.lasso)^2)  \n",
    "coef.lasso <- predict(fit.lasso, type=\"coefficients\", s=lambda)[1:ncol(College),]\n",
    "coef.lasso[coef.lasso != 0]\n",
    "length(coef.lasso[coef.lasso != 0])"
   ]
  },
  {
   "cell_type": "code",
   "execution_count": 20,
   "metadata": {},
   "outputs": [
    {
     "name": "stderr",
     "output_type": "stream",
     "text": [
      "Loading required package: pls\n",
      "Warning message in library(package, lib.loc = lib.loc, character.only = TRUE, logical.return = TRUE, :\n",
      "\"there is no package called 'pls'\""
     ]
    },
    {
     "ename": "ERROR",
     "evalue": "Error in pcr(Apps ~ ., data = train, scale = TRUE, validation = \"CV\"): could not find function \"pcr\"\n",
     "output_type": "error",
     "traceback": [
      "Error in pcr(Apps ~ ., data = train, scale = TRUE, validation = \"CV\"): could not find function \"pcr\"\nTraceback:\n"
     ]
    }
   ],
   "source": [
    "#part e\n",
    "require(pls)\n",
    "set.seed(1)\n",
    "fit.pcr <- pcr(Apps~., data=train, scale=TRUE, validation=\"CV\")\n",
    "validationplot(fit.pcr, val.type=\"MSEP\")\n",
    "summary(fit.pcr)\n",
    "pred.pcr <- predict(fit.pcr, test, ncomp=16)  # min Cv at M=16\n",
    "(err.pcr <- mean((test$Apps - pred.pcr)^2))"
   ]
  },
  {
   "cell_type": "code",
   "execution_count": 21,
   "metadata": {},
   "outputs": [
    {
     "name": "stderr",
     "output_type": "stream",
     "text": [
      "Loading required package: pls\n",
      "Warning message in library(package, lib.loc = lib.loc, character.only = TRUE, logical.return = TRUE, :\n",
      "\"there is no package called 'pls'\""
     ]
    },
    {
     "ename": "ERROR",
     "evalue": "Error in plsr(Apps ~ ., data = train, scale = TRUE, validation = \"CV\"): could not find function \"plsr\"\n",
     "output_type": "error",
     "traceback": [
      "Error in plsr(Apps ~ ., data = train, scale = TRUE, validation = \"CV\"): could not find function \"plsr\"\nTraceback:\n"
     ]
    }
   ],
   "source": [
    "#part f\n",
    "require(pls)\n",
    "set.seed(1)\n",
    "fit.pls <- plsr(Apps~., data=train, scale=TRUE, validation=\"CV\")\n",
    "validationplot(fit.pls, val.type=\"MSEP\")\n",
    "summary(fit.pls)\n",
    "pred.pls <- predict(fit.pls, test, ncomp=10)  # min Cv at M=10\n",
    "(err.pls <- mean((test$Apps - pred.pls)^2))"
   ]
  },
  {
   "cell_type": "code",
   "execution_count": 22,
   "metadata": {},
   "outputs": [
    {
     "name": "stderr",
     "output_type": "stream",
     "text": [
      "Loading required package: MASS\n",
      "Warning message:\n",
      "\"package 'MASS' was built under R version 3.6.2\""
     ]
    },
    {
     "data": {
      "text/plain": [
       "\n",
       "Call:\n",
       "lm(formula = nox ~ poly(dis, 3), data = Boston)\n",
       "\n",
       "Residuals:\n",
       "      Min        1Q    Median        3Q       Max \n",
       "-0.121130 -0.040619 -0.009738  0.023385  0.194904 \n",
       "\n",
       "Coefficients:\n",
       "               Estimate Std. Error t value Pr(>|t|)    \n",
       "(Intercept)    0.554695   0.002759 201.021  < 2e-16 ***\n",
       "poly(dis, 3)1 -2.003096   0.062071 -32.271  < 2e-16 ***\n",
       "poly(dis, 3)2  0.856330   0.062071  13.796  < 2e-16 ***\n",
       "poly(dis, 3)3 -0.318049   0.062071  -5.124 4.27e-07 ***\n",
       "---\n",
       "Signif. codes:  0 '***' 0.001 '**' 0.01 '*' 0.05 '.' 0.1 ' ' 1\n",
       "\n",
       "Residual standard error: 0.06207 on 502 degrees of freedom\n",
       "Multiple R-squared:  0.7148,\tAdjusted R-squared:  0.7131 \n",
       "F-statistic: 419.3 on 3 and 502 DF,  p-value: < 2.2e-16\n"
      ]
     },
     "metadata": {},
     "output_type": "display_data"
    },
    {
     "data": {
      "image/png": "[encoded data removed]",
      "text/plain": [
       "Plot with title \"Degree 3 Polynomial Fit\""
      ]
     },
     "metadata": {},
     "output_type": "display_data"
    }
   ],
   "source": [
    "# Exercise 9 (P299, Chap7)\n",
    "#part a\n",
    "require(MASS)\n",
    "data(Boston)\n",
    "set.seed(1)\n",
    "fit.03 <- lm(nox~poly(dis,3), data=Boston)\n",
    "dislims <- range(Boston$dis)\n",
    "dis.grid <- seq(dislims[1], dislims[2], 0.1)\n",
    "preds <- predict(fit.03, newdata=list(dis=dis.grid), se=TRUE)\n",
    "se.bands <- preds$fit + cbind(2*preds$se.fit, -2*preds$se.fit)\n",
    "par(mfrow=c(1,1), mar=c(4.5,4.5,1,1), oma=c(0,0,4,0))\n",
    "plot(Boston$dis, Boston$nox, xlim=dislims, cex=0.5, col=\"darkgrey\")\n",
    "title(\"Degree 3 Polynomial Fit\")\n",
    "lines(dis.grid, preds$fit, lwd=2, col=\"blue\")\n",
    "matlines(dis.grid, se.bands, lwd=1, col=\"blue\", lty=3)\n",
    "summary(fit.03)"
   ]
  },
  {
   "cell_type": "code",
   "execution_count": 23,
   "metadata": {},
   "outputs": [
    {
     "data": {
      "text/html": [
       "<ol class=list-inline>\n",
       "\t<li>2.76856285896928</li>\n",
       "\t<li>2.03526186893526</li>\n",
       "\t<li>1.93410670717907</li>\n",
       "\t<li>1.93298132729859</li>\n",
       "\t<li>1.9152899610843</li>\n",
       "\t<li>1.87825729850816</li>\n",
       "\t<li>1.84948361458298</li>\n",
       "\t<li>1.83562968906769</li>\n",
       "\t<li>1.8333308044916</li>\n",
       "\t<li>1.83217112393135</li>\n",
       "</ol>\n"
      ],
      "text/latex": [
       "\\begin{enumerate*}\n",
       "\\item 2.76856285896928\n",
       "\\item 2.03526186893526\n",
       "\\item 1.93410670717907\n",
       "\\item 1.93298132729859\n",
       "\\item 1.9152899610843\n",
       "\\item 1.87825729850816\n",
       "\\item 1.84948361458298\n",
       "\\item 1.83562968906769\n",
       "\\item 1.8333308044916\n",
       "\\item 1.83217112393135\n",
       "\\end{enumerate*}\n"
      ],
      "text/markdown": [
       "1. 2.76856285896928\n",
       "2. 2.03526186893526\n",
       "3. 1.93410670717907\n",
       "4. 1.93298132729859\n",
       "5. 1.9152899610843\n",
       "6. 1.87825729850816\n",
       "7. 1.84948361458298\n",
       "8. 1.83562968906769\n",
       "9. 1.8333308044916\n",
       "10. 1.83217112393135\n",
       "\n",
       "\n"
      ],
      "text/plain": [
       " [1] 2.768563 2.035262 1.934107 1.932981 1.915290 1.878257 1.849484 1.835630\n",
       " [9] 1.833331 1.832171"
      ]
     },
     "metadata": {},
     "output_type": "display_data"
    },
    {
     "data": {
      "image/png": "[encoded data removed]",
      "text/plain": [
       "plot without title"
      ]
     },
     "metadata": {},
     "output_type": "display_data"
    }
   ],
   "source": [
    "#part b \n",
    "rss.error <- rep(0,10)\n",
    "for (i in 1:10) {\n",
    "\n",
    "  lm.fit <- lm(nox~poly(dis,i), data=Boston)\n",
    "\n",
    "  rss.error[i] <- sum(lm.fit$residuals^2)\n",
    "\n",
    "}\n",
    "\n",
    "rss.error\n",
    "plot(rss.error, type=\"b\")"
   ]
  },
  {
   "cell_type": "code",
   "execution_count": 24,
   "metadata": {},
   "outputs": [
    {
     "data": {
      "text/html": [
       "<ol class=list-inline>\n",
       "\t<li>0.00555826287169151</li>\n",
       "\t<li>0.00408570583474476</li>\n",
       "\t<li>0.0038765214586795</li>\n",
       "\t<li>0.00386334162515342</li>\n",
       "\t<li>0.00423745233580752</li>\n",
       "\t<li>0.00568686228537242</li>\n",
       "\t<li>0.0102788971841026</li>\n",
       "\t<li>0.00681086781472169</li>\n",
       "\t<li>0.0333086067728796</li>\n",
       "\t<li>0.00407559913656768</li>\n",
       "</ol>\n"
      ],
      "text/latex": [
       "\\begin{enumerate*}\n",
       "\\item 0.00555826287169151\n",
       "\\item 0.00408570583474476\n",
       "\\item 0.0038765214586795\n",
       "\\item 0.00386334162515342\n",
       "\\item 0.00423745233580752\n",
       "\\item 0.00568686228537242\n",
       "\\item 0.0102788971841026\n",
       "\\item 0.00681086781472169\n",
       "\\item 0.0333086067728796\n",
       "\\item 0.00407559913656768\n",
       "\\end{enumerate*}\n"
      ],
      "text/markdown": [
       "1. 0.00555826287169151\n",
       "2. 0.00408570583474476\n",
       "3. 0.0038765214586795\n",
       "4. 0.00386334162515342\n",
       "5. 0.00423745233580752\n",
       "6. 0.00568686228537242\n",
       "7. 0.0102788971841026\n",
       "8. 0.00681086781472169\n",
       "9. 0.0333086067728796\n",
       "10. 0.00407559913656768\n",
       "\n",
       "\n"
      ],
      "text/plain": [
       " [1] 0.005558263 0.004085706 0.003876521 0.003863342 0.004237452 0.005686862\n",
       " [7] 0.010278897 0.006810868 0.033308607 0.004075599"
      ]
     },
     "metadata": {},
     "output_type": "display_data"
    },
    {
     "data": {
      "image/png": "[encoded data removed]",
      "text/plain": [
       "plot without title"
      ]
     },
     "metadata": {},
     "output_type": "display_data"
    }
   ],
   "source": [
    "#part c\n",
    "require(boot)\n",
    "\n",
    "set.seed(1)\n",
    "\n",
    "cv.error <- rep(0,10)\n",
    "\n",
    "for (i in 1:10) {\n",
    "\n",
    "  glm.fit <- glm(nox~poly(dis,i), data=Boston)\n",
    "\n",
    "  cv.error[i] <- cv.glm(Boston, glm.fit, K=10)$delta[1]  # [1]:std, [2]:bias-corrected\n",
    "\n",
    "}\n",
    "\n",
    "cv.error\n",
    "\n",
    "plot(cv.error, type=\"b\")"
   ]
  },
  {
   "cell_type": "code",
   "execution_count": 25,
   "metadata": {},
   "outputs": [
    {
     "name": "stderr",
     "output_type": "stream",
     "text": [
      "Loading required package: splines\n"
     ]
    },
    {
     "data": {
      "text/html": [
       "<strong>50%:</strong> 3.20745"
      ],
      "text/latex": [
       "\\textbf{50\\textbackslash{}\\%:} 3.20745"
      ],
      "text/markdown": [
       "**50%:** 3.20745"
      ],
      "text/plain": [
       "    50% \n",
       "3.20745 "
      ]
     },
     "metadata": {},
     "output_type": "display_data"
    },
    {
     "data": {
      "image/png": "[encoded data removed]",
      "text/plain": [
       "plot without title"
      ]
     },
     "metadata": {},
     "output_type": "display_data"
    }
   ],
   "source": [
    "#part d\n",
    "require(splines)\n",
    "\n",
    "fit.sp <- lm(nox~bs(dis, df=4), data=Boston)\n",
    "\n",
    "pred <- predict(fit.sp, newdata=list(dis=dis.grid), se=T)\n",
    "\n",
    "plot(Boston$dis, Boston$nox, col=\"gray\")\n",
    "\n",
    "lines(dis.grid, pred$fit, lwd=2)\n",
    "\n",
    "lines(dis.grid, pred$fit+2*pred$se, lty=\"dashed\")\n",
    "\n",
    "lines(dis.grid, pred$fit-2*pred$se, lty=\"dashed\")\n",
    "\n",
    "attr(bs(Boston$dis,df=4),\"knots\")"
   ]
  },
  {
   "cell_type": "code",
   "execution_count": 26,
   "metadata": {},
   "outputs": [
    {
     "data": {
      "text/html": [
       "<ol class=list-inline>\n",
       "\t<li>1.92277499281193</li>\n",
       "\t<li>1.84017280148852</li>\n",
       "\t<li>1.83396590316021</li>\n",
       "\t<li>1.82988444592328</li>\n",
       "\t<li>1.81699505672523</li>\n",
       "\t<li>1.82565251038706</li>\n",
       "\t<li>1.79253488955613</li>\n",
       "</ol>\n"
      ],
      "text/latex": [
       "\\begin{enumerate*}\n",
       "\\item 1.92277499281193\n",
       "\\item 1.84017280148852\n",
       "\\item 1.83396590316021\n",
       "\\item 1.82988444592328\n",
       "\\item 1.81699505672523\n",
       "\\item 1.82565251038706\n",
       "\\item 1.79253488955613\n",
       "\\end{enumerate*}\n"
      ],
      "text/markdown": [
       "1. 1.92277499281193\n",
       "2. 1.84017280148852\n",
       "3. 1.83396590316021\n",
       "4. 1.82988444592328\n",
       "5. 1.81699505672523\n",
       "6. 1.82565251038706\n",
       "7. 1.79253488955613\n",
       "\n",
       "\n"
      ],
      "text/plain": [
       "[1] 1.922775 1.840173 1.833966 1.829884 1.816995 1.825653 1.792535"
      ]
     },
     "metadata": {},
     "output_type": "display_data"
    },
    {
     "data": {
      "image/png": "[encoded data removed]",
      "text/plain": [
       "plot without title"
      ]
     },
     "metadata": {},
     "output_type": "display_data"
    }
   ],
   "source": [
    "#part e\n",
    "require(splines)\n",
    "\n",
    "set.seed(1)\n",
    "\n",
    "rss.error <- rep(0,7)\n",
    "\n",
    "for (i in 4:10) {\n",
    "\n",
    "  fit.sp <- lm(nox~bs(dis, df=i), data=Boston)\n",
    "\n",
    "  rss.error[i-3] <- sum(fit.sp$residuals^2)\n",
    "\n",
    "}\n",
    "\n",
    "rss.error\n",
    "\n",
    "plot(4:10, rss.error, type=\"b\")"
   ]
  },
  {
   "cell_type": "code",
   "execution_count": 27,
   "metadata": {},
   "outputs": [
    {
     "name": "stderr",
     "output_type": "stream",
     "text": [
      "Warning message in bs(dis, degree = 3L, knots = c(`50%` = 3.23925), Boundary.knots = c(1.137, :\n",
      "\"some 'x' values beyond boundary knots may cause ill-conditioned bases\"Warning message in bs(dis, degree = 3L, knots = c(`50%` = 3.23925), Boundary.knots = c(1.137, :\n",
      "\"some 'x' values beyond boundary knots may cause ill-conditioned bases\"Warning message in bs(dis, degree = 3L, knots = c(`50%` = 3.2157), Boundary.knots = c(1.1296, :\n",
      "\"some 'x' values beyond boundary knots may cause ill-conditioned bases\"Warning message in bs(dis, degree = 3L, knots = c(`50%` = 3.2157), Boundary.knots = c(1.1296, :\n",
      "\"some 'x' values beyond boundary knots may cause ill-conditioned bases\"Warning message in bs(dis, degree = 3L, knots = c(`33.33333%` = 2.35953333333333, :\n",
      "\"some 'x' values beyond boundary knots may cause ill-conditioned bases\"Warning message in bs(dis, degree = 3L, knots = c(`33.33333%` = 2.35953333333333, :\n",
      "\"some 'x' values beyond boundary knots may cause ill-conditioned bases\"Warning message in bs(dis, degree = 3L, knots = c(`33.33333%` = 2.43386666666667, :\n",
      "\"some 'x' values beyond boundary knots may cause ill-conditioned bases\"Warning message in bs(dis, degree = 3L, knots = c(`33.33333%` = 2.43386666666667, :\n",
      "\"some 'x' values beyond boundary knots may cause ill-conditioned bases\"Warning message in bs(dis, degree = 3L, knots = c(`25%` = 2.10215, `50%` = 3.1523, :\n",
      "\"some 'x' values beyond boundary knots may cause ill-conditioned bases\"Warning message in bs(dis, degree = 3L, knots = c(`25%` = 2.10215, `50%` = 3.1523, :\n",
      "\"some 'x' values beyond boundary knots may cause ill-conditioned bases\"Warning message in bs(dis, degree = 3L, knots = c(`25%` = 2.0493, `50%` = 3.0921, :\n",
      "\"some 'x' values beyond boundary knots may cause ill-conditioned bases\"Warning message in bs(dis, degree = 3L, knots = c(`25%` = 2.0493, `50%` = 3.0921, :\n",
      "\"some 'x' values beyond boundary knots may cause ill-conditioned bases\"Warning message in bs(dis, degree = 3L, knots = c(`20%` = 1.9512, `40%` = 2.6403, :\n",
      "\"some 'x' values beyond boundary knots may cause ill-conditioned bases\"Warning message in bs(dis, degree = 3L, knots = c(`20%` = 1.9512, `40%` = 2.6403, :\n",
      "\"some 'x' values beyond boundary knots may cause ill-conditioned bases\"Warning message in bs(dis, degree = 3L, knots = c(`16.66667%` = 1.82203333333333, :\n",
      "\"some 'x' values beyond boundary knots may cause ill-conditioned bases\"Warning message in bs(dis, degree = 3L, knots = c(`16.66667%` = 1.82203333333333, :\n",
      "\"some 'x' values beyond boundary knots may cause ill-conditioned bases\"Warning message in bs(dis, degree = 3L, knots = c(`16.66667%` = 1.85586666666667, :\n",
      "\"some 'x' values beyond boundary knots may cause ill-conditioned bases\"Warning message in bs(dis, degree = 3L, knots = c(`16.66667%` = 1.85586666666667, :\n",
      "\"some 'x' values beyond boundary knots may cause ill-conditioned bases\"Warning message in bs(dis, degree = 3L, knots = c(`14.28571%` = 1.79318571428571, :\n",
      "\"some 'x' values beyond boundary knots may cause ill-conditioned bases\"Warning message in bs(dis, degree = 3L, knots = c(`14.28571%` = 1.79318571428571, :\n",
      "\"some 'x' values beyond boundary knots may cause ill-conditioned bases\"Warning message in bs(dis, degree = 3L, knots = c(`14.28571%` = 1.7821, `28.57143%` = 2.1678, :\n",
      "\"some 'x' values beyond boundary knots may cause ill-conditioned bases\"Warning message in bs(dis, degree = 3L, knots = c(`14.28571%` = 1.7821, `28.57143%` = 2.1678, :\n",
      "\"some 'x' values beyond boundary knots may cause ill-conditioned bases\"Warning message in bs(dis, degree = 3L, knots = c(`12.5%` = 1.743225, `25%` = 2.0941, :\n",
      "\"some 'x' values beyond boundary knots may cause ill-conditioned bases\"Warning message in bs(dis, degree = 3L, knots = c(`12.5%` = 1.743225, `25%` = 2.0941, :\n",
      "\"some 'x' values beyond boundary knots may cause ill-conditioned bases\"Warning message in bs(dis, degree = 3L, knots = c(`12.5%` = 1.7519375, `25%` = 2.070275, :\n",
      "\"some 'x' values beyond boundary knots may cause ill-conditioned bases\"Warning message in bs(dis, degree = 3L, knots = c(`12.5%` = 1.7519375, `25%` = 2.070275, :\n",
      "\"some 'x' values beyond boundary knots may cause ill-conditioned bases\""
     ]
    },
    {
     "data": {
      "text/html": [
       "<ol class=list-inline>\n",
       "\t<li>0.00391883797126179</li>\n",
       "\t<li>0.00372902357157444</li>\n",
       "\t<li>0.00372268250735741</li>\n",
       "\t<li>0.00369678864566923</li>\n",
       "\t<li>0.00374626964689494</li>\n",
       "\t<li>0.00374253387481379</li>\n",
       "\t<li>0.00372094217745074</li>\n",
       "</ol>\n"
      ],
      "text/latex": [
       "\\begin{enumerate*}\n",
       "\\item 0.00391883797126179\n",
       "\\item 0.00372902357157444\n",
       "\\item 0.00372268250735741\n",
       "\\item 0.00369678864566923\n",
       "\\item 0.00374626964689494\n",
       "\\item 0.00374253387481379\n",
       "\\item 0.00372094217745074\n",
       "\\end{enumerate*}\n"
      ],
      "text/markdown": [
       "1. 0.00391883797126179\n",
       "2. 0.00372902357157444\n",
       "3. 0.00372268250735741\n",
       "4. 0.00369678864566923\n",
       "5. 0.00374626964689494\n",
       "6. 0.00374253387481379\n",
       "7. 0.00372094217745074\n",
       "\n",
       "\n"
      ],
      "text/plain": [
       "[1] 0.003918838 0.003729024 0.003722683 0.003696789 0.003746270 0.003742534\n",
       "[7] 0.003720942"
      ]
     },
     "metadata": {},
     "output_type": "display_data"
    },
    {
     "data": {
      "image/png": "[encoded data removed]",
      "text/plain": [
       "plot without title"
      ]
     },
     "metadata": {},
     "output_type": "display_data"
    }
   ],
   "source": [
    "#part f\n",
    "require(splines)\n",
    "\n",
    "require(boot)\n",
    "\n",
    "set.seed(1)\n",
    "\n",
    "cv.error <- rep(0,7)\n",
    "\n",
    "for (i in 4:10) {\n",
    "\n",
    "  glm.fit <- glm(nox~bs(dis, df=i), data=Boston)\n",
    "\n",
    "  cv.error[i-3] <- cv.glm(Boston, glm.fit, K=10)$delta[1]\n",
    "\n",
    "}\n",
    "\n",
    "cv.error\n",
    "\n",
    "plot(4:10, cv.error, type=\"b\")"
   ]
  },
  {
   "cell_type": "code",
   "execution_count": 28,
   "metadata": {},
   "outputs": [
    {
     "name": "stderr",
     "output_type": "stream",
     "text": [
      "Loading required package: leaps\n",
      "Warning message in library(package, lib.loc = lib.loc, character.only = TRUE, logical.return = TRUE, :\n",
      "\"there is no package called 'leaps'\""
     ]
    },
    {
     "ename": "ERROR",
     "evalue": "Error in regsubsets(Outstate ~ ., data = train, nvmax = ncol(College) - : could not find function \"regsubsets\"\n",
     "output_type": "error",
     "traceback": [
      "Error in regsubsets(Outstate ~ ., data = train, nvmax = ncol(College) - : could not find function \"regsubsets\"\nTraceback:\n"
     ]
    }
   ],
   "source": [
    "#exercise 10 (P300, Chap.7) \n",
    "#part a\n",
    "require(ISLR)\n",
    "\n",
    "require(leaps)\n",
    "\n",
    "data(College)\n",
    "\n",
    "set.seed(1)\n",
    "\n",
    "\n",
    "\n",
    "# split data into train and test sets\n",
    "\n",
    "trainid <- sample(1:nrow(College), nrow(College)/2)\n",
    "\n",
    "train <- College[trainid,]\n",
    "\n",
    "test <- College[-trainid,]\n",
    "\n",
    "\n",
    "\n",
    "# predict function from chapter 6 labs\n",
    "\n",
    "predict.regsubsets <- function(object, newdata, id, ...){\n",
    "\n",
    "  form <- as.formula(object$call[[2]])\n",
    "\n",
    "  mat <- model.matrix(form, newdata)\n",
    "\n",
    "  coefi <- coef(object, id=id)\n",
    "\n",
    "  xvars <- names(coefi)\n",
    "\n",
    "  mat[,xvars]%*%coefi\n",
    "\n",
    "}\n",
    "\n",
    "\n",
    "\n",
    "# forward selection\n",
    "\n",
    "fit.fwd <- regsubsets(Outstate~., data=train, nvmax=ncol(College)-1)\n",
    "\n",
    "(fwd.summary <- summary(fit.fwd))\n",
    "\n",
    "\n",
    "\n",
    "err.fwd <- rep(NA, ncol(College)-1)\n",
    "\n",
    "for(i in 1:(ncol(College)-1)) {\n",
    "\n",
    "  pred.fwd <- predict(fit.fwd, test, id=i)\n",
    "\n",
    "  err.fwd[i] <- mean((test$Outstate - pred.fwd)^2)\n",
    "\n",
    "}\n",
    "\n",
    "par(mfrow=c(2,2))\n",
    "\n",
    "plot(err.fwd, type=\"b\", main=\"Test MSE\", xlab=\"Number of Predictors\")\n",
    "\n",
    "min.mse <- which.min(err.fwd)  \n",
    "\n",
    "points(min.mse, err.fwd[min.mse], col=\"red\", pch=4, lwd=5)\n",
    "\n",
    "plot(fwd.summary$adjr2, type=\"b\", main=\"Adjusted R^2\", xlab=\"Number of Predictors\")\n",
    "\n",
    "max.adjr2 <- which.max(fwd.summary$adjr2)  \n",
    "\n",
    "points(max.adjr2, fwd.summary$adjr2[max.adjr2], col=\"red\", pch=4, lwd=5)\n",
    "\n",
    "plot(fwd.summary$cp, type=\"b\", main=\"cp\", xlab=\"Number of Predictors\")\n",
    "\n",
    "min.cp <- which.min(fwd.summary$cp)  \n",
    "\n",
    "points(min.cp, fwd.summary$cp[min.cp], col=\"red\", pch=4, lwd=5)\n",
    "\n",
    "plot(fwd.summary$bic, type=\"b\", main=\"bic\", xlab=\"Number of Predictors\")\n",
    "\n",
    "min.bic <- which.min(fwd.summary$bic)  \n",
    "\n",
    "points(min.bic, fwd.summary$bic[min.bic], col=\"red\", pch=4, lwd=5)\n",
    "\n",
    "# model metrics do not improve much after 6 predictors\n",
    "\n",
    "coef(fit.fwd, 6)"
   ]
  },
  {
   "cell_type": "code",
   "execution_count": 29,
   "metadata": {},
   "outputs": [
    {
     "name": "stderr",
     "output_type": "stream",
     "text": [
      "Loading required package: gam\n",
      "Warning message in library(package, lib.loc = lib.loc, character.only = TRUE, logical.return = TRUE, :\n",
      "\"there is no package called 'gam'\""
     ]
    },
    {
     "ename": "ERROR",
     "evalue": "Error in gam(Outstate ~ Private + s(Room.Board, 3) + s(Terminal, 3) + : could not find function \"gam\"\n",
     "output_type": "error",
     "traceback": [
      "Error in gam(Outstate ~ Private + s(Room.Board, 3) + s(Terminal, 3) + : could not find function \"gam\"\nTraceback:\n"
     ]
    }
   ],
   "source": [
    "#part b\n",
    "require(gam)\n",
    "\n",
    "gam.fit <- gam(Outstate ~ \n",
    "\n",
    "                 Private +   # categorical variable\n",
    "\n",
    "                 s(Room.Board,3) + \n",
    "\n",
    "                 s(Terminal,3) + \n",
    "\n",
    "                 s(perc.alumni,3) + \n",
    "\n",
    "                 s(Expend,3) + \n",
    "\n",
    "                 s(Grad.Rate,3), \n",
    "\n",
    "               data=College)\n",
    "\n",
    "par(mfrow=c(2,3))\n",
    "\n",
    "plot(gam.fit, se=TRUE, col=\"blue\")"
   ]
  },
  {
   "cell_type": "code",
   "execution_count": 30,
   "metadata": {},
   "outputs": [
    {
     "ename": "ERROR",
     "evalue": "Error in predict(gam.fit, test): object 'gam.fit' not found\n",
     "output_type": "error",
     "traceback": [
      "Error in predict(gam.fit, test): object 'gam.fit' not found\nTraceback:\n",
      "1. predict(gam.fit, test)"
     ]
    }
   ],
   "source": [
    "#part c\n",
    "pred <- predict(gam.fit, test)\n",
    "\n",
    "(mse.error <- mean((test$Outstate - pred)^2))\n",
    "\n",
    "err.fwd[6]"
   ]
  },
  {
   "cell_type": "code",
   "execution_count": null,
   "metadata": {},
   "outputs": [],
   "source": [
    "#part d\n",
    "#Strong evidence of non-linear effects for `Expend`, some evidence for `Room.Board`,\n",
    "#`Terminal` and `Grad.Rate`, and no evidence for `perc.alumni`."
   ]
  }
 ],
 "metadata": {
  "kernelspec": {
   "display_name": "R",
   "language": "R",
   "name": "ir"
  },
  "language_info": {
   "codemirror_mode": "r",
   "file_extension": ".r",
   "mimetype": "text/x-r-source",
   "name": "R",
   "pygments_lexer": "r",
   "version": "3.6.0"
  }
 },
 "nbformat": 4,
 "nbformat_minor": 2
}
